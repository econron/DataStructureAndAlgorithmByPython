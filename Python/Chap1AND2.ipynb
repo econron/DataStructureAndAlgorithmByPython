{
 "cells": [
  {
   "cell_type": "code",
   "execution_count": 1,
   "id": "db9ee620",
   "metadata": {},
   "outputs": [],
   "source": [
    "# アルゴリズム： 問題を解くために何らかの計算を実行するためのルールの集まり\n",
    "# アルゴリズムを設計する：　現実問題を解くために有効に利用できる数学レシピを最も効率よく作成する\n",
    "\n",
    "#設計フェーズ：　アーキテクチャ、ロジック、実装の詳細を計画、文書化。正確さと性能の両面に留意する。\n",
    "\n",
    "# 問題の特徴という切り口からみたアルゴリズムの分類\n",
    "# データ中心のアルゴリズム：大量のデータを処理する。\n",
    "# 計算中心のアルゴリズム：　アルゴリズムを複数のフェーズに分割し、少なくともそのうちいくつかが並列化されるような方法を見つける\n",
    "# データ中心かつ計算中心のアルゴリズム\n",
    "\n",
    "# データ次元分類\n",
    "# Volume ：処理するデータのサイズ\n",
    "# Velocity　：実行時に新しいデータを生成するベースはどれくらいか\n",
    "# Variety　：設計されたアルゴリズムが対処するとされるデータは何種類か"
   ]
  },
  {
   "cell_type": "code",
   "execution_count": 6,
   "id": "233f432a",
   "metadata": {},
   "outputs": [
    {
     "data": {
      "text/plain": [
       "'a'"
      ]
     },
     "execution_count": 6,
     "metadata": {},
     "output_type": "execute_result"
    }
   ],
   "source": [
    "#　Pythonのデータ構造\n",
    "alist = [1, \"a\", 34, \"#\", 23]\n",
    "alist[1]"
   ]
  },
  {
   "cell_type": "code",
   "execution_count": 3,
   "id": "14624b9c",
   "metadata": {},
   "outputs": [
    {
     "data": {
      "text/plain": [
       "['a', 34]"
      ]
     },
     "execution_count": 3,
     "metadata": {},
     "output_type": "execute_result"
    }
   ],
   "source": [
    "alist[0:2]\n",
    "alist[1:3]"
   ]
  },
  {
   "cell_type": "code",
   "execution_count": 4,
   "id": "5d89abe5",
   "metadata": {},
   "outputs": [
    {
     "data": {
      "text/plain": [
       "[34, '#']"
      ]
     },
     "execution_count": 4,
     "metadata": {},
     "output_type": "execute_result"
    }
   ],
   "source": [
    "alist[2:]"
   ]
  },
  {
   "cell_type": "code",
   "execution_count": 7,
   "id": "d5c9d08e",
   "metadata": {},
   "outputs": [
    {
     "data": {
      "text/plain": [
       "['#', 23]"
      ]
     },
     "execution_count": 7,
     "metadata": {},
     "output_type": "execute_result"
    }
   ],
   "source": [
    "alist[-2:]"
   ]
  },
  {
   "cell_type": "code",
   "execution_count": 8,
   "id": "80656399",
   "metadata": {},
   "outputs": [
    {
     "data": {
      "text/plain": [
       "['#']"
      ]
     },
     "execution_count": 8,
     "metadata": {},
     "output_type": "execute_result"
    }
   ],
   "source": [
    "alist[-2:-1]"
   ]
  },
  {
   "cell_type": "code",
   "execution_count": 9,
   "id": "249d4258",
   "metadata": {},
   "outputs": [
    {
     "data": {
      "text/plain": [
       "[1, 'a', 34, '#']"
      ]
     },
     "execution_count": 9,
     "metadata": {},
     "output_type": "execute_result"
    }
   ],
   "source": [
    "alist[:-1]"
   ]
  },
  {
   "cell_type": "code",
   "execution_count": 10,
   "id": "258a0beb",
   "metadata": {},
   "outputs": [
    {
     "data": {
      "text/plain": [
       "[1, 'a']"
      ]
     },
     "execution_count": 10,
     "metadata": {},
     "output_type": "execute_result"
    }
   ],
   "source": [
    "alist[:-3]"
   ]
  },
  {
   "cell_type": "code",
   "execution_count": 11,
   "id": "b7ee6522",
   "metadata": {},
   "outputs": [
    {
     "data": {
      "text/plain": [
       "[121, 484, 1089, 1936, 3025]"
      ]
     },
     "execution_count": 11,
     "metadata": {},
     "output_type": "execute_result"
    }
   ],
   "source": [
    "list(map(lambda x: x ** 2, [11,22,33,44,55]))"
   ]
  },
  {
   "cell_type": "code",
   "execution_count": 14,
   "id": "675276c9",
   "metadata": {},
   "outputs": [
    {
     "name": "stdout",
     "output_type": "stream",
     "text": [
      "264\n"
     ]
    }
   ],
   "source": [
    "# データ集計\n",
    "from functools import reduce\n",
    "\n",
    "def doSum(x1, x2):\n",
    "    return x1 + x2\n",
    "\n",
    "x = reduce(doSum, [100,122,33,4,5])\n",
    "\n",
    "print(x)"
   ]
  },
  {
   "cell_type": "code",
   "execution_count": 15,
   "id": "a32fb498",
   "metadata": {},
   "outputs": [
    {
     "data": {
      "text/plain": [
       "[0, 1, 2, 3, 4, 5]"
      ]
     },
     "execution_count": 15,
     "metadata": {},
     "output_type": "execute_result"
    }
   ],
   "source": [
    "list(range(6))"
   ]
  },
  {
   "cell_type": "code",
   "execution_count": 19,
   "id": "4197974c",
   "metadata": {},
   "outputs": [
    {
     "name": "stdout",
     "output_type": "stream",
     "text": [
      "Red\n",
      "Bule\n"
     ]
    },
    {
     "data": {
      "text/plain": [
       "{'default': 'Red', 'second': 'Bule', 'third': 'Yellow', 'fourth': 'Green'}"
      ]
     },
     "execution_count": 19,
     "metadata": {},
     "output_type": "execute_result"
    }
   ],
   "source": [
    "# ディクショナリ\n",
    "colors = {\n",
    "    \"default\": \"Red\",\n",
    "    \"second\": \"Bule\",\n",
    "    \"third\": \"Yellow\"\n",
    "}\n",
    "\n",
    "print(colors.get(\"default\"))\n",
    "print(colors[\"second\"])\n",
    "\n",
    "colors[\"fourth\"] = \"Green\"\n",
    "# registerとupdateが同じ\n",
    "colors"
   ]
  },
  {
   "cell_type": "code",
   "execution_count": 23,
   "id": "acb8c73f",
   "metadata": {},
   "outputs": [
    {
     "data": {
      "text/plain": [
       "{'HR', 'PHP', 'big', 'douga', 'engineer', 'manga'}"
      ]
     },
     "execution_count": 23,
     "metadata": {},
     "output_type": "execute_result"
    }
   ],
   "source": [
    "# 集合\n",
    "green = {\"green\", \"leaves\", \"pokemon\"}\n",
    "\n",
    "me = {\"engineer\", \"big\", \"manga\", \"PHP\"}\n",
    "girlfriend = {\"HR\", \"manga\", \"douga\"}\n",
    "\n",
    "#　集合の全体\n",
    "girlfriend | me"
   ]
  },
  {
   "cell_type": "code",
   "execution_count": 24,
   "id": "7889ccb9",
   "metadata": {},
   "outputs": [
    {
     "data": {
      "text/plain": [
       "{'manga'}"
      ]
     },
     "execution_count": 24,
     "metadata": {},
     "output_type": "execute_result"
    }
   ],
   "source": [
    "#　集合の共通部分\n",
    "girlfriend & me"
   ]
  },
  {
   "cell_type": "code",
   "execution_count": 26,
   "id": "ec63966e",
   "metadata": {},
   "outputs": [
    {
     "data": {
      "text/html": [
       "<div>\n",
       "<style scoped>\n",
       "    .dataframe tbody tr th:only-of-type {\n",
       "        vertical-align: middle;\n",
       "    }\n",
       "\n",
       "    .dataframe tbody tr th {\n",
       "        vertical-align: top;\n",
       "    }\n",
       "\n",
       "    .dataframe thead th {\n",
       "        text-align: right;\n",
       "    }\n",
       "</style>\n",
       "<table border=\"1\" class=\"dataframe\">\n",
       "  <thead>\n",
       "    <tr style=\"text-align: right;\">\n",
       "      <th></th>\n",
       "      <th>0</th>\n",
       "      <th>1</th>\n",
       "    </tr>\n",
       "  </thead>\n",
       "  <tbody>\n",
       "    <tr>\n",
       "      <th>0</th>\n",
       "      <td>1</td>\n",
       "      <td>Felica</td>\n",
       "    </tr>\n",
       "    <tr>\n",
       "      <th>1</th>\n",
       "      <td>2</td>\n",
       "      <td>Suica</td>\n",
       "    </tr>\n",
       "  </tbody>\n",
       "</table>\n",
       "</div>"
      ],
      "text/plain": [
       "   0       1\n",
       "0  1  Felica\n",
       "1  2   Suica"
      ]
     },
     "execution_count": 26,
     "metadata": {},
     "output_type": "execute_result"
    }
   ],
   "source": [
    "# データフレーム\n",
    "# 表形式データを格納するために使われるデータ構造\n",
    "import pandas as pd\n",
    "\n",
    "df = pd.DataFrame([\n",
    "    [\"1\",\"Felica\"],\n",
    "    [\"2\", \"Suica\"]\n",
    "])\n",
    "\n",
    "df"
   ]
  },
  {
   "cell_type": "code",
   "execution_count": 28,
   "id": "ce327a09",
   "metadata": {},
   "outputs": [
    {
     "name": "stdout",
     "output_type": "stream",
     "text": [
      "[22, 33, 44, 55]\n",
      "<class 'list'>\n",
      "[22 33 44 55]\n",
      "<class 'numpy.ndarray'>\n"
     ]
    }
   ],
   "source": [
    " #　抽象データ型\n",
    "\n",
    "# ベクトル\n",
    "#　リストを作成する\n",
    "myVector = [22,33,44,55]\n",
    "print(myVector)\n",
    "print(type(myVector))\n",
    "\n",
    "# numpyを使う\n",
    "import numpy as np\n",
    "myvec = np.array([22,33,44,55])\n",
    "print(myvec)\n",
    "print(type(myvec))"
   ]
  },
  {
   "cell_type": "code",
   "execution_count": 29,
   "id": "edf35716",
   "metadata": {},
   "outputs": [],
   "source": [
    "# スタック\n",
    "# isEmpty：　スタックが空である場合にtrueを返す\n",
    "# push：　新しい要素を追加する\n",
    "# pop：　最後に追加された要素を返し、その要素を削除する\n",
    "\n",
    "class Stack:\n",
    "    def __init__(self):\n",
    "        self.items = []\n",
    "    def isEmpty(self):\n",
    "        return self.items == []\n",
    "    def push(self, item):\n",
    "        self.items.append(item)\n",
    "    def pop(self):\n",
    "        return self.items.pop()\n",
    "    def peek(self):\n",
    "        return self.items[len(self.items) - 1]\n",
    "    def size(self):\n",
    "        return len(self.items)"
   ]
  },
  {
   "cell_type": "code",
   "execution_count": 30,
   "id": "1351011b",
   "metadata": {},
   "outputs": [],
   "source": [
    "stack = Stack()\n",
    "stack.push(\"Red\")\n",
    "stack.push(\"Green\")\n",
    "stack.push(\"Blue\")\n",
    "stack.push(\"Yellow\")"
   ]
  },
  {
   "cell_type": "code",
   "execution_count": 31,
   "id": "699757a1",
   "metadata": {},
   "outputs": [
    {
     "data": {
      "text/plain": [
       "<__main__.Stack at 0x7faf3a044b80>"
      ]
     },
     "execution_count": 31,
     "metadata": {},
     "output_type": "execute_result"
    }
   ],
   "source": [
    "stack"
   ]
  },
  {
   "cell_type": "code",
   "execution_count": 32,
   "id": "336ff44a",
   "metadata": {},
   "outputs": [
    {
     "data": {
      "text/plain": [
       "'Yellow'"
      ]
     },
     "execution_count": 32,
     "metadata": {},
     "output_type": "execute_result"
    }
   ],
   "source": [
    "stack.pop()"
   ]
  },
  {
   "cell_type": "code",
   "execution_count": 33,
   "id": "8422b3c1",
   "metadata": {},
   "outputs": [
    {
     "data": {
      "text/plain": [
       "'Blue'"
      ]
     },
     "execution_count": 33,
     "metadata": {},
     "output_type": "execute_result"
    }
   ],
   "source": [
    "stack.pop()"
   ]
  },
  {
   "cell_type": "code",
   "execution_count": 34,
   "id": "e622a446",
   "metadata": {},
   "outputs": [
    {
     "data": {
      "text/plain": [
       "'Green'"
      ]
     },
     "execution_count": 34,
     "metadata": {},
     "output_type": "execute_result"
    }
   ],
   "source": [
    "stack.pop()"
   ]
  },
  {
   "cell_type": "code",
   "execution_count": 37,
   "id": "a235da03",
   "metadata": {},
   "outputs": [
    {
     "ename": "IndexError",
     "evalue": "pop from empty list",
     "output_type": "error",
     "traceback": [
      "\u001b[0;31m---------------------------------------------------------------------------\u001b[0m",
      "\u001b[0;31mIndexError\u001b[0m                                Traceback (most recent call last)",
      "\u001b[0;32m<ipython-input-37-415460d3b717>\u001b[0m in \u001b[0;36m<module>\u001b[0;34m\u001b[0m\n\u001b[0;32m----> 1\u001b[0;31m \u001b[0mstack\u001b[0m\u001b[0;34m.\u001b[0m\u001b[0mpop\u001b[0m\u001b[0;34m(\u001b[0m\u001b[0;34m)\u001b[0m\u001b[0;34m\u001b[0m\u001b[0;34m\u001b[0m\u001b[0m\n\u001b[0m",
      "\u001b[0;32m<ipython-input-29-8457ad094b97>\u001b[0m in \u001b[0;36mpop\u001b[0;34m(self)\u001b[0m\n\u001b[1;32m     12\u001b[0m         \u001b[0mself\u001b[0m\u001b[0;34m.\u001b[0m\u001b[0mitems\u001b[0m\u001b[0;34m.\u001b[0m\u001b[0mappend\u001b[0m\u001b[0;34m(\u001b[0m\u001b[0mitem\u001b[0m\u001b[0;34m)\u001b[0m\u001b[0;34m\u001b[0m\u001b[0;34m\u001b[0m\u001b[0m\n\u001b[1;32m     13\u001b[0m     \u001b[0;32mdef\u001b[0m \u001b[0mpop\u001b[0m\u001b[0;34m(\u001b[0m\u001b[0mself\u001b[0m\u001b[0;34m)\u001b[0m\u001b[0;34m:\u001b[0m\u001b[0;34m\u001b[0m\u001b[0;34m\u001b[0m\u001b[0m\n\u001b[0;32m---> 14\u001b[0;31m         \u001b[0;32mreturn\u001b[0m \u001b[0mself\u001b[0m\u001b[0;34m.\u001b[0m\u001b[0mitems\u001b[0m\u001b[0;34m.\u001b[0m\u001b[0mpop\u001b[0m\u001b[0;34m(\u001b[0m\u001b[0;34m)\u001b[0m\u001b[0;34m\u001b[0m\u001b[0;34m\u001b[0m\u001b[0m\n\u001b[0m\u001b[1;32m     15\u001b[0m     \u001b[0;32mdef\u001b[0m \u001b[0mpeek\u001b[0m\u001b[0;34m(\u001b[0m\u001b[0mself\u001b[0m\u001b[0;34m)\u001b[0m\u001b[0;34m:\u001b[0m\u001b[0;34m\u001b[0m\u001b[0;34m\u001b[0m\u001b[0m\n\u001b[1;32m     16\u001b[0m         \u001b[0;32mreturn\u001b[0m \u001b[0mself\u001b[0m\u001b[0;34m.\u001b[0m\u001b[0mitems\u001b[0m\u001b[0;34m[\u001b[0m\u001b[0mlen\u001b[0m\u001b[0;34m(\u001b[0m\u001b[0mself\u001b[0m\u001b[0;34m.\u001b[0m\u001b[0mitems\u001b[0m\u001b[0;34m)\u001b[0m \u001b[0;34m-\u001b[0m \u001b[0;36m1\u001b[0m\u001b[0;34m]\u001b[0m\u001b[0;34m\u001b[0m\u001b[0;34m\u001b[0m\u001b[0m\n",
      "\u001b[0;31mIndexError\u001b[0m: pop from empty list"
     ]
    }
   ],
   "source": [
    "stack.pop()"
   ]
  },
  {
   "cell_type": "code",
   "execution_count": 36,
   "id": "f31f31cf",
   "metadata": {},
   "outputs": [
    {
     "ename": "IndexError",
     "evalue": "pop from empty list",
     "output_type": "error",
     "traceback": [
      "\u001b[0;31m---------------------------------------------------------------------------\u001b[0m",
      "\u001b[0;31mIndexError\u001b[0m                                Traceback (most recent call last)",
      "\u001b[0;32m<ipython-input-36-415460d3b717>\u001b[0m in \u001b[0;36m<module>\u001b[0;34m\u001b[0m\n\u001b[0;32m----> 1\u001b[0;31m \u001b[0mstack\u001b[0m\u001b[0;34m.\u001b[0m\u001b[0mpop\u001b[0m\u001b[0;34m(\u001b[0m\u001b[0;34m)\u001b[0m\u001b[0;34m\u001b[0m\u001b[0;34m\u001b[0m\u001b[0m\n\u001b[0m",
      "\u001b[0;32m<ipython-input-29-8457ad094b97>\u001b[0m in \u001b[0;36mpop\u001b[0;34m(self)\u001b[0m\n\u001b[1;32m     12\u001b[0m         \u001b[0mself\u001b[0m\u001b[0;34m.\u001b[0m\u001b[0mitems\u001b[0m\u001b[0;34m.\u001b[0m\u001b[0mappend\u001b[0m\u001b[0;34m(\u001b[0m\u001b[0mitem\u001b[0m\u001b[0;34m)\u001b[0m\u001b[0;34m\u001b[0m\u001b[0;34m\u001b[0m\u001b[0m\n\u001b[1;32m     13\u001b[0m     \u001b[0;32mdef\u001b[0m \u001b[0mpop\u001b[0m\u001b[0;34m(\u001b[0m\u001b[0mself\u001b[0m\u001b[0;34m)\u001b[0m\u001b[0;34m:\u001b[0m\u001b[0;34m\u001b[0m\u001b[0;34m\u001b[0m\u001b[0m\n\u001b[0;32m---> 14\u001b[0;31m         \u001b[0;32mreturn\u001b[0m \u001b[0mself\u001b[0m\u001b[0;34m.\u001b[0m\u001b[0mitems\u001b[0m\u001b[0;34m.\u001b[0m\u001b[0mpop\u001b[0m\u001b[0;34m(\u001b[0m\u001b[0;34m)\u001b[0m\u001b[0;34m\u001b[0m\u001b[0;34m\u001b[0m\u001b[0m\n\u001b[0m\u001b[1;32m     15\u001b[0m     \u001b[0;32mdef\u001b[0m \u001b[0mpeek\u001b[0m\u001b[0;34m(\u001b[0m\u001b[0mself\u001b[0m\u001b[0;34m)\u001b[0m\u001b[0;34m:\u001b[0m\u001b[0;34m\u001b[0m\u001b[0;34m\u001b[0m\u001b[0m\n\u001b[1;32m     16\u001b[0m         \u001b[0;32mreturn\u001b[0m \u001b[0mself\u001b[0m\u001b[0;34m.\u001b[0m\u001b[0mitems\u001b[0m\u001b[0;34m[\u001b[0m\u001b[0mlen\u001b[0m\u001b[0;34m(\u001b[0m\u001b[0mself\u001b[0m\u001b[0;34m.\u001b[0m\u001b[0mitems\u001b[0m\u001b[0;34m)\u001b[0m \u001b[0;34m-\u001b[0m \u001b[0;36m1\u001b[0m\u001b[0;34m]\u001b[0m\u001b[0;34m\u001b[0m\u001b[0;34m\u001b[0m\u001b[0m\n",
      "\u001b[0;31mIndexError\u001b[0m: pop from empty list"
     ]
    }
   ],
   "source": [
    "stack.pop()\n",
    "# ---------------------------------------------------------------------------\n",
    "# IndexError                                Traceback (most recent call last)\n",
    "# <ipython-input-36-415460d3b717> in <module>\n",
    "# ----> 1 stack.pop()\n",
    "\n",
    "# <ipython-input-29-8457ad094b97> in pop(self)\n",
    "#      12         self.items.append(item)\n",
    "#      13     def pop(self):\n",
    "# ---> 14         return self.items.pop()\n",
    "#      15     def peek(self):\n",
    "#      16         return self.items[len(self.items) - 1]\n",
    "\n",
    "# IndexError: pop from empty list"
   ]
  },
  {
   "cell_type": "code",
   "execution_count": 38,
   "id": "ae126c4c",
   "metadata": {},
   "outputs": [
    {
     "data": {
      "text/html": [
       "<div>\n",
       "<style scoped>\n",
       "    .dataframe tbody tr th:only-of-type {\n",
       "        vertical-align: middle;\n",
       "    }\n",
       "\n",
       "    .dataframe tbody tr th {\n",
       "        vertical-align: top;\n",
       "    }\n",
       "\n",
       "    .dataframe thead th {\n",
       "        text-align: right;\n",
       "    }\n",
       "</style>\n",
       "<table border=\"1\" class=\"dataframe\">\n",
       "  <thead>\n",
       "    <tr style=\"text-align: right;\">\n",
       "      <th></th>\n",
       "      <th>0</th>\n",
       "      <th>1</th>\n",
       "    </tr>\n",
       "  </thead>\n",
       "  <tbody>\n",
       "    <tr>\n",
       "      <th>0</th>\n",
       "      <td>push</td>\n",
       "      <td>0(1)</td>\n",
       "    </tr>\n",
       "    <tr>\n",
       "      <th>1</th>\n",
       "      <td>pop</td>\n",
       "      <td>0(1)</td>\n",
       "    </tr>\n",
       "    <tr>\n",
       "      <th>2</th>\n",
       "      <td>size</td>\n",
       "      <td>0(1)</td>\n",
       "    </tr>\n",
       "    <tr>\n",
       "      <th>3</th>\n",
       "      <td>peek</td>\n",
       "      <td>0(1)</td>\n",
       "    </tr>\n",
       "  </tbody>\n",
       "</table>\n",
       "</div>"
      ],
      "text/plain": [
       "      0     1\n",
       "0  push  0(1)\n",
       "1   pop  0(1)\n",
       "2  size  0(1)\n",
       "3  peek  0(1)"
      ]
     },
     "execution_count": 38,
     "metadata": {},
     "output_type": "execute_result"
    }
   ],
   "source": [
    "stack_frame = pd.DataFrame([\n",
    "    [\"push\", \"0(1)\"],\n",
    "    [\"pop\", \"0(1)\"],\n",
    "    [\"size\", \"0(1)\"],\n",
    "    [\"peek\", \"0(1)\"]\n",
    "])\n",
    "\n",
    "stack_frame"
   ]
  },
  {
   "cell_type": "code",
   "execution_count": 39,
   "id": "2a687db6",
   "metadata": {},
   "outputs": [],
   "source": [
    "# 演算の性能がスタックのサイズに比例しない"
   ]
  },
  {
   "cell_type": "code",
   "execution_count": 40,
   "id": "60b1c9ec",
   "metadata": {},
   "outputs": [],
   "source": [
    "# キュー\n",
    "class Quece(object):\n",
    "    def __init__(self):\n",
    "        self.items = []\n",
    "    def isEmpty(self):\n",
    "        return self.items == []\n",
    "    def enquece(self, item):\n",
    "        self.items.insert(0, item)\n",
    "    def dequece(self):\n",
    "        return self.items.pop()\n",
    "    def size(self):\n",
    "        return len(self.items)"
   ]
  },
  {
   "cell_type": "code",
   "execution_count": 41,
   "id": "b28d2151",
   "metadata": {},
   "outputs": [
    {
     "name": "stdout",
     "output_type": "stream",
     "text": [
      "<__main__.Quece object at 0x7faf38d6cfa0>\n"
     ]
    }
   ],
   "source": [
    "quece = Quece()\n",
    "quece.enquece(\"Red\")\n",
    "quece.enquece(\"Green\")\n",
    "quece.enquece(\"Blue\")\n",
    "quece.enquece(\"Yellow\")\n",
    "\n",
    "print(quece)"
   ]
  },
  {
   "cell_type": "code",
   "execution_count": 42,
   "id": "1263663c",
   "metadata": {},
   "outputs": [
    {
     "name": "stdout",
     "output_type": "stream",
     "text": [
      "0 [25, 21, 22, 24, 27, 26]\n"
     ]
    }
   ],
   "source": [
    "# バブルソート\n",
    "list = [25,21,22,24,27,26]\n",
    "lastElementIndex = len(list) - 1\n",
    "print(0, list)"
   ]
  },
  {
   "cell_type": "code",
   "execution_count": 45,
   "id": "fb5eec2a",
   "metadata": {},
   "outputs": [
    {
     "name": "stdout",
     "output_type": "stream",
     "text": [
      "[21, 22, 24, 25, 26, 27]\n"
     ]
    }
   ],
   "source": [
    "list = [25,21,22,24,27,26]\n",
    "for idx in range(lastElementIndex):\n",
    "    # 一番後ろに大きい値を追いやっている\n",
    "    if list[idx] > list[idx + 1]:\n",
    "        list[idx], list[idx + 1] = list[idx + 1], list[idx]\n",
    "        \n",
    "print(list)"
   ]
  },
  {
   "cell_type": "code",
   "execution_count": 48,
   "id": "e3c353b1",
   "metadata": {},
   "outputs": [],
   "source": [
    "# 挿入ソート\n",
    "# イテレーションのたびにデータ構造からデータ点を削除し、\n",
    "# そのデータ点を正しい位置に挿入する\n",
    "# 最初のイテレーションでデータ点を2つ選んで並び替える\n",
    "# 選択範囲を広げて3つ目のデータ点を選び、全てのデータ点が正しい位置へ移動するまで処理を繰り返す\n",
    "def InsertionSort(list):\n",
    "    for i in range(1, len(list)):\n",
    "        element_next = list[i]\n",
    "        \n",
    "        j = i - 1\n",
    "        while(list[i] > element_next) and (j >= 0):\n",
    "            list[j + 1] = list[j]\n",
    "            j = j - 1\n",
    "        list[j + 1] = element_next\n",
    "    return list    "
   ]
  },
  {
   "cell_type": "code",
   "execution_count": 49,
   "id": "a38ba11d",
   "metadata": {},
   "outputs": [],
   "source": [
    "# マージソート\n",
    "def MergeSort(list):\n",
    "    if(len(list)) > 1:\n",
    "        mid = len(list) // 2\n",
    "        left = list[:mid]\n",
    "        right = list[mid:]\n",
    "        \n",
    "        MergeSort(left)\n",
    "        MergeSort(right)\n",
    "        \n",
    "        a = 0\n",
    "        b = 0\n",
    "        c = 0\n",
    "        \n",
    "        while a < len(left) and b < len(right):\n",
    "            if left[a] < right[b]:\n",
    "                list[c] = left[a]\n",
    "                a = a + 1\n",
    "            else:\n",
    "                list[c] = right[b]\n",
    "                b = b + 1\n",
    "            c = c + 1\n",
    "        while a < len(left):\n",
    "            list[c] = left[a]\n",
    "            a = a + 1\n",
    "            c = c + 1\n",
    "        while b < len(right):\n",
    "            list[c] = right[b]\n",
    "            b = b + 1\n",
    "            c = c + 1\n",
    "    return list        "
   ]
  },
  {
   "cell_type": "code",
   "execution_count": 50,
   "id": "56dc5595",
   "metadata": {},
   "outputs": [
    {
     "data": {
      "text/plain": [
       "[7, 10, 16, 21, 34, 44, 45, 67, 83]"
      ]
     },
     "execution_count": 50,
     "metadata": {},
     "output_type": "execute_result"
    }
   ],
   "source": [
    "list = [44,16,83,7,67,21,34,45,10]\n",
    "MergeSort(list)"
   ]
  },
  {
   "cell_type": "code",
   "execution_count": null,
   "id": "9e135410",
   "metadata": {},
   "outputs": [],
   "source": []
  }
 ],
 "metadata": {
  "kernelspec": {
   "display_name": "Python 3",
   "language": "python",
   "name": "python3"
  },
  "language_info": {
   "codemirror_mode": {
    "name": "ipython",
    "version": 3
   },
   "file_extension": ".py",
   "mimetype": "text/x-python",
   "name": "python",
   "nbconvert_exporter": "python",
   "pygments_lexer": "ipython3",
   "version": "3.8.8"
  }
 },
 "nbformat": 4,
 "nbformat_minor": 5
}
