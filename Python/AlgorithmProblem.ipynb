{
 "cells": [
  {
   "cell_type": "code",
   "execution_count": 9,
   "id": "7eea0d7f",
   "metadata": {},
   "outputs": [],
   "source": [
    "str_first = \"eceba\"\n",
    "str_second = \"ccaabbb\"\n",
    "\n",
    "from collections import defaultdict\n",
    "def probfirst(str):\n",
    "    #　左から１つずつ読み出す\n",
    "    # 同じ文字が出てきたらその文字数を１増やす\n",
    "    # map内に積み上げ文字が３種類になった時点でminを1つ消す\n",
    "    n = len(str)\n",
    "    if n < 3:\n",
    "        return n\n",
    "        \n",
    "    left, right = 0,0\n",
    "    hashmap = defaultdict()\n",
    "        \n",
    "    max_len = 2\n",
    "        \n",
    "    while right < n:\n",
    "        hashmap[str[right]] = right\n",
    "        right += 1\n",
    "            \n",
    "        if len(hashmap) == 3:\n",
    "            del_idx = min(hashmap.values())\n",
    "            del hashmap[str[del_idx]]\n",
    "            left = del_idx + 1\n",
    "                \n",
    "        max_len = max(max_len, right - left)\n",
    "            \n",
    "    return max_len\n",
    "        "
   ]
  },
  {
   "cell_type": "code",
   "execution_count": 10,
   "id": "a0172474",
   "metadata": {},
   "outputs": [
    {
     "data": {
      "text/plain": [
       "3"
      ]
     },
     "execution_count": 10,
     "metadata": {},
     "output_type": "execute_result"
    }
   ],
   "source": [
    "str_first = \"eceba\"\n",
    "\n",
    "def probfirst_rewrite(str):\n",
    "    n = len(str)\n",
    "    if n < 3:\n",
    "        return n\n",
    "    \n",
    "    left, right = 0, 0\n",
    "    hashmap = defaultdict()\n",
    "    \n",
    "    max_len = 2\n",
    "    \n",
    "    # rightがnより小さい間（forループの代わり）\n",
    "    while right < n:\n",
    "        # KVストアに数を格納する\n",
    "        hashmap[str[right]] = right\n",
    "        right += 1\n",
    "        \n",
    "        # KVストアの大きさが３のとき\n",
    "        if len(hashmap) == 3:\n",
    "            #  KVストアの中の最小値を取得する\n",
    "            del_idx = min(hashmap.values())\n",
    "            # 最小値のインデックスで削除する\n",
    "            del hashmap[str[del_idx]]\n",
    "            # インデックスに＋１する\n",
    "            left = del_idx + 1   \n",
    "        max_len = max(max_len, right - left)\n",
    "    \n",
    "    return max_len"
   ]
  },
  {
   "cell_type": "code",
   "execution_count": null,
   "id": "0a31fa67",
   "metadata": {},
   "outputs": [],
   "source": [
    "# Given two strings s and t, return true if they are both one edit distance apart, otherwise return false.\n",
    "# abcdfggg , abcdefggg\n",
    "def second(s: str, t: str):\n",
    "#     少なくとも1つが0であり、もう片方が1文字のみの場合、true\n",
    "#     ただし、もう片方が1文字でない場合、false\n",
    "#     それ以外の場合、\n",
    "#     ・sとtの長さを比較しておく\n",
    "#     ・sとtのそれぞれの文字を取り出す\n",
    "#     ・等しければ続ける。等しくなければ長い方のindexを1つ増やして再度比較する。\n",
    "#     　また、その時、差分カウンターを1つ増やす。\n",
    "#     ・もし差分カウンターが2つになったら、処理を中断してfalse\n",
    "    \n",
    "    if len(s) - len(t) < 0:\n",
    "        big, small = t, s\n",
    "    else :\n",
    "        big, small = s, t\n",
    "    \n",
    "    if len(big) - len(small) > 1:\n",
    "        return false\n",
    "    \n",
    "    bigIndex, smallIndex = 0, 0\n",
    "    \n",
    "    while 0 < len(small):\n",
    "        if big[bigIndex] is not small[smallIndex]:\n",
    "            ++count\n",
    "            \n",
    "            if count > 1:\n",
    "                return false\n",
    "            \n",
    "            if big[bigIndex + 1] is not small[smallIndex]:\n",
    "                ++count\n",
    "                if count > 1:\n",
    "                    return false\n",
    "                ++bigIndex\n",
    "                \n",
    "        ++bigIndex\n",
    "        ++smallIndex\n",
    "                \n",
    "    return true\n",
    "        "
   ]
  },
  {
   "cell_type": "code",
   "execution_count": null,
   "id": "ae73cf59",
   "metadata": {},
   "outputs": [],
   "source": [
    "print(second(\"abc\", \"ac\"))"
   ]
  },
  {
   "cell_type": "code",
   "execution_count": null,
   "id": "213f76d5",
   "metadata": {},
   "outputs": [],
   "source": [
    "# 上記はボツコード\n",
    "\n",
    "# 下記は正解コード\n",
    "def second_ans(s: str, t: str):\n",
    "    slen = len(s)\n",
    "    tlen = len(t)\n",
    "    \n",
    "    if tlen > slen:\n",
    "        return second_ans(t, s)\n",
    "    \n",
    "    if slen - tlen > 1:\n",
    "        return false\n",
    "    \n",
    "    for i in range(slen):\n",
    "        if s[i] != t[i]:\n",
    "            if slen == nlen:\n",
    "                return s[i+1:] == t[i+1:]\n",
    "            else:\n",
    "                return s[i:] == t[i+1:]\n",
    "    return ns + 1 == nt        "
   ]
  },
  {
   "cell_type": "code",
   "execution_count": null,
   "id": "ad807338",
   "metadata": {},
   "outputs": [],
   "source": [
    "second_ans(\"abc\", \"ab\")"
   ]
  },
  {
   "cell_type": "code",
   "execution_count": null,
   "id": "c541b37a",
   "metadata": {},
   "outputs": [],
   "source": []
  }
 ],
 "metadata": {
  "kernelspec": {
   "display_name": "Python 3",
   "language": "python",
   "name": "python3"
  },
  "language_info": {
   "codemirror_mode": {
    "name": "ipython",
    "version": 3
   },
   "file_extension": ".py",
   "mimetype": "text/x-python",
   "name": "python",
   "nbconvert_exporter": "python",
   "pygments_lexer": "ipython3",
   "version": "3.8.8"
  }
 },
 "nbformat": 4,
 "nbformat_minor": 5
}
